{
 "metadata": {
  "language_info": {
   "codemirror_mode": {
    "name": "ipython",
    "version": 3
   },
   "file_extension": ".py",
   "mimetype": "text/x-python",
   "name": "python",
   "nbconvert_exporter": "python",
   "pygments_lexer": "ipython3",
   "version": "3.8.3"
  },
  "orig_nbformat": 2,
  "kernelspec": {
   "name": "python383jvsc74a57bd0579282893146967bc5d17141c601e8a8b8ad4a0a2a5a6fe1c87b1000077400d7",
   "display_name": "Python 3.8.3 64-bit ('base': conda)"
  }
 },
 "nbformat": 4,
 "nbformat_minor": 2,
 "cells": [
  {
   "source": [
    "# Star Type Classification / NASA\n",
    "\n",
    "NASA에서 수집한 별의 유형 분류 DataSet이다."
   ],
   "cell_type": "markdown",
   "metadata": {}
  },
  {
   "source": [
    "## Star Type Classification\n",
    "\n",
    "\n",
    "For comparing all models of ML   \n",
    "It can be used for prediction\n",
    "\n",
    "Temperature -- K   \n",
    "L -- L/Lo  \n",
    "R -- R/Ro  \n",
    "AM -- Mv  \n",
    "Color -- General Color of Spectrum  \n",
    "Spectral_Class -- O,B,A,F,G,K,M / SMASS - https://en.wikipedia.org/wiki/Asteroid_spectral_types  \n",
    "Type -- Red Dwarf, Brown Dwarf, White Dwarf, Main Sequence , Super Giants, Hyper Giants  \n",
    "\n",
    "TARGET:  \n",
    "Type\n",
    "\n",
    "from 0 to 5  \n",
    "\n",
    "Red Dwarf - 0  \n",
    "Brown Dwarf - 1  \n",
    "White Dwarf - 2  \n",
    "Main Sequence - 3  \n",
    "Super Giants - 4  \n",
    "Hyper Giants - 5\n",
    "\n",
    "MATH:  \n",
    "\n",
    "Lo = 3.828 x 10^26 Watts  \n",
    "(Avg Luminosity of Sun)  \n",
    "Ro = 6.9551 x 10^8 m  \n",
    "(Avg Radius of Sun)  "
   ],
   "cell_type": "markdown",
   "metadata": {}
  },
  {
   "source": [
    "## 요약\n",
    " 요약\n",
    "Calumns: 온도(K), 광도(L), 반지름(R), AM, 색상, 스펙트럼(Spectral Class), Type (분류)  \n",
    "\n",
    "![Spectral_Class](https://scienceruls.weebly.com/uploads/5/1/7/4/51741831/846626525.GIF?448)\n",
    "\n",
    "참고는 Kaggle에서   \n",
    "https://www.kaggle.com/sohelranaccselab/star-type-classification-using-machine-learning  \n",
    "https://www.kaggle.com/harshgupta57/star-type-eda-classifications"
   ],
   "cell_type": "markdown",
   "metadata": {}
  },
  {
   "cell_type": "code",
   "execution_count": 21,
   "metadata": {},
   "outputs": [],
   "source": [
    "import pandas as pd\n",
    "import numpy as np\n",
    "import os"
   ]
  },
  {
   "cell_type": "code",
   "execution_count": 22,
   "metadata": {},
   "outputs": [],
   "source": [
    "import matplotlib.pyplot as plt\n",
    "DATA_PATH = os.path.join('data') # 데이터 저장 폴더\n",
    "\n",
    "def load_star_data(): # wine data의 csv파일을 return하는 함수\n",
    "    csv_path = os.path.join(DATA_PATH,'Stars.csv')\n",
    "    return pd.read_csv(csv_path)"
   ]
  },
  {
   "cell_type": "code",
   "execution_count": 23,
   "metadata": {},
   "outputs": [
    {
     "output_type": "execute_result",
     "data": {
      "text/plain": [
       "     Temperature              L          R    A_M  Color Spectral_Class  Type\n",
       "0           3068       0.002400     0.1700  16.12    Red              M     0\n",
       "1           3042       0.000500     0.1542  16.60    Red              M     0\n",
       "2           2600       0.000300     0.1020  18.70    Red              M     0\n",
       "3           2800       0.000200     0.1600  16.65    Red              M     0\n",
       "4           1939       0.000138     0.1030  20.06    Red              M     0\n",
       "..           ...            ...        ...    ...    ...            ...   ...\n",
       "235        38940  374830.000000  1356.0000  -9.93   Blue              O     5\n",
       "236        30839  834042.000000  1194.0000 -10.63   Blue              O     5\n",
       "237         8829  537493.000000  1423.0000 -10.73  White              A     5\n",
       "238         9235  404940.000000  1112.0000 -11.23  White              A     5\n",
       "239        37882  294903.000000  1783.0000  -7.80   Blue              O     5\n",
       "\n",
       "[240 rows x 7 columns]"
      ],
      "text/html": "<div>\n<style scoped>\n    .dataframe tbody tr th:only-of-type {\n        vertical-align: middle;\n    }\n\n    .dataframe tbody tr th {\n        vertical-align: top;\n    }\n\n    .dataframe thead th {\n        text-align: right;\n    }\n</style>\n<table border=\"1\" class=\"dataframe\">\n  <thead>\n    <tr style=\"text-align: right;\">\n      <th></th>\n      <th>Temperature</th>\n      <th>L</th>\n      <th>R</th>\n      <th>A_M</th>\n      <th>Color</th>\n      <th>Spectral_Class</th>\n      <th>Type</th>\n    </tr>\n  </thead>\n  <tbody>\n    <tr>\n      <th>0</th>\n      <td>3068</td>\n      <td>0.002400</td>\n      <td>0.1700</td>\n      <td>16.12</td>\n      <td>Red</td>\n      <td>M</td>\n      <td>0</td>\n    </tr>\n    <tr>\n      <th>1</th>\n      <td>3042</td>\n      <td>0.000500</td>\n      <td>0.1542</td>\n      <td>16.60</td>\n      <td>Red</td>\n      <td>M</td>\n      <td>0</td>\n    </tr>\n    <tr>\n      <th>2</th>\n      <td>2600</td>\n      <td>0.000300</td>\n      <td>0.1020</td>\n      <td>18.70</td>\n      <td>Red</td>\n      <td>M</td>\n      <td>0</td>\n    </tr>\n    <tr>\n      <th>3</th>\n      <td>2800</td>\n      <td>0.000200</td>\n      <td>0.1600</td>\n      <td>16.65</td>\n      <td>Red</td>\n      <td>M</td>\n      <td>0</td>\n    </tr>\n    <tr>\n      <th>4</th>\n      <td>1939</td>\n      <td>0.000138</td>\n      <td>0.1030</td>\n      <td>20.06</td>\n      <td>Red</td>\n      <td>M</td>\n      <td>0</td>\n    </tr>\n    <tr>\n      <th>...</th>\n      <td>...</td>\n      <td>...</td>\n      <td>...</td>\n      <td>...</td>\n      <td>...</td>\n      <td>...</td>\n      <td>...</td>\n    </tr>\n    <tr>\n      <th>235</th>\n      <td>38940</td>\n      <td>374830.000000</td>\n      <td>1356.0000</td>\n      <td>-9.93</td>\n      <td>Blue</td>\n      <td>O</td>\n      <td>5</td>\n    </tr>\n    <tr>\n      <th>236</th>\n      <td>30839</td>\n      <td>834042.000000</td>\n      <td>1194.0000</td>\n      <td>-10.63</td>\n      <td>Blue</td>\n      <td>O</td>\n      <td>5</td>\n    </tr>\n    <tr>\n      <th>237</th>\n      <td>8829</td>\n      <td>537493.000000</td>\n      <td>1423.0000</td>\n      <td>-10.73</td>\n      <td>White</td>\n      <td>A</td>\n      <td>5</td>\n    </tr>\n    <tr>\n      <th>238</th>\n      <td>9235</td>\n      <td>404940.000000</td>\n      <td>1112.0000</td>\n      <td>-11.23</td>\n      <td>White</td>\n      <td>A</td>\n      <td>5</td>\n    </tr>\n    <tr>\n      <th>239</th>\n      <td>37882</td>\n      <td>294903.000000</td>\n      <td>1783.0000</td>\n      <td>-7.80</td>\n      <td>Blue</td>\n      <td>O</td>\n      <td>5</td>\n    </tr>\n  </tbody>\n</table>\n<p>240 rows × 7 columns</p>\n</div>"
     },
     "metadata": {},
     "execution_count": 23
    }
   ],
   "source": [
    "star = load_star_data()\n",
    "star"
   ]
  },
  {
   "cell_type": "code",
   "execution_count": 24,
   "metadata": {},
   "outputs": [
    {
     "output_type": "execute_result",
     "data": {
      "text/plain": [
       "     Temperature              L          R    A_M\n",
       "0           3068       0.002400     0.1700  16.12\n",
       "1           3042       0.000500     0.1542  16.60\n",
       "2           2600       0.000300     0.1020  18.70\n",
       "3           2800       0.000200     0.1600  16.65\n",
       "4           1939       0.000138     0.1030  20.06\n",
       "..           ...            ...        ...    ...\n",
       "235        38940  374830.000000  1356.0000  -9.93\n",
       "236        30839  834042.000000  1194.0000 -10.63\n",
       "237         8829  537493.000000  1423.0000 -10.73\n",
       "238         9235  404940.000000  1112.0000 -11.23\n",
       "239        37882  294903.000000  1783.0000  -7.80\n",
       "\n",
       "[240 rows x 4 columns]"
      ],
      "text/html": "<div>\n<style scoped>\n    .dataframe tbody tr th:only-of-type {\n        vertical-align: middle;\n    }\n\n    .dataframe tbody tr th {\n        vertical-align: top;\n    }\n\n    .dataframe thead th {\n        text-align: right;\n    }\n</style>\n<table border=\"1\" class=\"dataframe\">\n  <thead>\n    <tr style=\"text-align: right;\">\n      <th></th>\n      <th>Temperature</th>\n      <th>L</th>\n      <th>R</th>\n      <th>A_M</th>\n    </tr>\n  </thead>\n  <tbody>\n    <tr>\n      <th>0</th>\n      <td>3068</td>\n      <td>0.002400</td>\n      <td>0.1700</td>\n      <td>16.12</td>\n    </tr>\n    <tr>\n      <th>1</th>\n      <td>3042</td>\n      <td>0.000500</td>\n      <td>0.1542</td>\n      <td>16.60</td>\n    </tr>\n    <tr>\n      <th>2</th>\n      <td>2600</td>\n      <td>0.000300</td>\n      <td>0.1020</td>\n      <td>18.70</td>\n    </tr>\n    <tr>\n      <th>3</th>\n      <td>2800</td>\n      <td>0.000200</td>\n      <td>0.1600</td>\n      <td>16.65</td>\n    </tr>\n    <tr>\n      <th>4</th>\n      <td>1939</td>\n      <td>0.000138</td>\n      <td>0.1030</td>\n      <td>20.06</td>\n    </tr>\n    <tr>\n      <th>...</th>\n      <td>...</td>\n      <td>...</td>\n      <td>...</td>\n      <td>...</td>\n    </tr>\n    <tr>\n      <th>235</th>\n      <td>38940</td>\n      <td>374830.000000</td>\n      <td>1356.0000</td>\n      <td>-9.93</td>\n    </tr>\n    <tr>\n      <th>236</th>\n      <td>30839</td>\n      <td>834042.000000</td>\n      <td>1194.0000</td>\n      <td>-10.63</td>\n    </tr>\n    <tr>\n      <th>237</th>\n      <td>8829</td>\n      <td>537493.000000</td>\n      <td>1423.0000</td>\n      <td>-10.73</td>\n    </tr>\n    <tr>\n      <th>238</th>\n      <td>9235</td>\n      <td>404940.000000</td>\n      <td>1112.0000</td>\n      <td>-11.23</td>\n    </tr>\n    <tr>\n      <th>239</th>\n      <td>37882</td>\n      <td>294903.000000</td>\n      <td>1783.0000</td>\n      <td>-7.80</td>\n    </tr>\n  </tbody>\n</table>\n<p>240 rows × 4 columns</p>\n</div>"
     },
     "metadata": {},
     "execution_count": 24
    }
   ],
   "source": [
    "#Star 데이터에서 Categorical 한 Data 들을 제거하여 분석\n",
    "star = star.drop(['Color', 'Spectral_Class', 'Type'], axis=1)\n",
    "star"
   ]
  },
  {
   "cell_type": "code",
   "execution_count": 25,
   "metadata": {},
   "outputs": [],
   "source": [
    "#대표적인 Scaler에는 MinMaxScaler, MaxAbsScaler, StandardScaler, RobusScaler 4가지가 있다. + Normalizer\n",
    "\n",
    "from sklearn.preprocessing import MinMaxScaler\n",
    "from sklearn.preprocessing import MaxAbsScaler\n",
    "from sklearn.preprocessing import StandardScaler\n",
    "from sklearn.preprocessing import RobustScaler\n",
    "from sklearn.preprocessing import Normalizer"
   ]
  },
  {
   "cell_type": "code",
   "execution_count": 26,
   "metadata": {},
   "outputs": [
    {
     "output_type": "execute_result",
     "data": {
      "text/plain": [
       "     Temperature             L         R       A_M\n",
       "0       0.029663  2.731275e-09  0.000083  0.876798\n",
       "1       0.028980  4.944550e-10  0.000075  0.891807\n",
       "2       0.017367  2.590003e-10  0.000048  0.957473\n",
       "3       0.022622  1.412729e-10  0.000078  0.893371\n",
       "4       0.000000  6.828189e-11  0.000049  1.000000\n",
       "..           ...           ...       ...       ...\n",
       "235     0.972150  4.412776e-01  0.695919  0.062226\n",
       "236     0.759307  9.818959e-01  0.612777  0.040338\n",
       "237     0.181025  6.327765e-01  0.730304  0.037211\n",
       "238     0.191692  4.767253e-01  0.570694  0.021576\n",
       "239     0.944352  3.471816e-01  0.915063  0.128831\n",
       "\n",
       "[240 rows x 4 columns]"
      ],
      "text/html": "<div>\n<style scoped>\n    .dataframe tbody tr th:only-of-type {\n        vertical-align: middle;\n    }\n\n    .dataframe tbody tr th {\n        vertical-align: top;\n    }\n\n    .dataframe thead th {\n        text-align: right;\n    }\n</style>\n<table border=\"1\" class=\"dataframe\">\n  <thead>\n    <tr style=\"text-align: right;\">\n      <th></th>\n      <th>Temperature</th>\n      <th>L</th>\n      <th>R</th>\n      <th>A_M</th>\n    </tr>\n  </thead>\n  <tbody>\n    <tr>\n      <th>0</th>\n      <td>0.029663</td>\n      <td>2.731275e-09</td>\n      <td>0.000083</td>\n      <td>0.876798</td>\n    </tr>\n    <tr>\n      <th>1</th>\n      <td>0.028980</td>\n      <td>4.944550e-10</td>\n      <td>0.000075</td>\n      <td>0.891807</td>\n    </tr>\n    <tr>\n      <th>2</th>\n      <td>0.017367</td>\n      <td>2.590003e-10</td>\n      <td>0.000048</td>\n      <td>0.957473</td>\n    </tr>\n    <tr>\n      <th>3</th>\n      <td>0.022622</td>\n      <td>1.412729e-10</td>\n      <td>0.000078</td>\n      <td>0.893371</td>\n    </tr>\n    <tr>\n      <th>4</th>\n      <td>0.000000</td>\n      <td>6.828189e-11</td>\n      <td>0.000049</td>\n      <td>1.000000</td>\n    </tr>\n    <tr>\n      <th>...</th>\n      <td>...</td>\n      <td>...</td>\n      <td>...</td>\n      <td>...</td>\n    </tr>\n    <tr>\n      <th>235</th>\n      <td>0.972150</td>\n      <td>4.412776e-01</td>\n      <td>0.695919</td>\n      <td>0.062226</td>\n    </tr>\n    <tr>\n      <th>236</th>\n      <td>0.759307</td>\n      <td>9.818959e-01</td>\n      <td>0.612777</td>\n      <td>0.040338</td>\n    </tr>\n    <tr>\n      <th>237</th>\n      <td>0.181025</td>\n      <td>6.327765e-01</td>\n      <td>0.730304</td>\n      <td>0.037211</td>\n    </tr>\n    <tr>\n      <th>238</th>\n      <td>0.191692</td>\n      <td>4.767253e-01</td>\n      <td>0.570694</td>\n      <td>0.021576</td>\n    </tr>\n    <tr>\n      <th>239</th>\n      <td>0.944352</td>\n      <td>3.471816e-01</td>\n      <td>0.915063</td>\n      <td>0.128831</td>\n    </tr>\n  </tbody>\n</table>\n<p>240 rows × 4 columns</p>\n</div>"
     },
     "metadata": {},
     "execution_count": 26
    }
   ],
   "source": [
    "MM = MinMaxScaler()\n",
    "MA = MaxAbsScaler()\n",
    "SS = StandardScaler()\n",
    "RS = RobustScaler()\n",
    "NO = Normalizer()\n",
    "\n",
    "mm=pd.DataFrame(MM.fit_transform(star),columns=star.columns)\n",
    "ma=pd.DataFrame(MA.fit_transform(star),columns=star.columns)\n",
    "ss=pd.DataFrame(SS.fit_transform(star),columns=star.columns)\n",
    "rs=pd.DataFrame(RS.fit_transform(star),columns=star.columns)\n",
    "no=pd.DataFrame(NO.fit_transform(star),columns=star.columns)"
   ]
  }
 ]
}