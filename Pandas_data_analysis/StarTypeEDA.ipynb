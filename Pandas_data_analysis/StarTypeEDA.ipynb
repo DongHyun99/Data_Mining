{
 "metadata": {
  "language_info": {
   "codemirror_mode": {
    "name": "ipython",
    "version": 3
   },
   "file_extension": ".py",
   "mimetype": "text/x-python",
   "name": "python",
   "nbconvert_exporter": "python",
   "pygments_lexer": "ipython3",
   "version": "3.8.3"
  },
  "orig_nbformat": 2,
  "kernelspec": {
   "name": "python383jvsc74a57bd0579282893146967bc5d17141c601e8a8b8ad4a0a2a5a6fe1c87b1000077400d7",
   "display_name": "Python 3.8.3 64-bit ('base': conda)"
  }
 },
 "nbformat": 4,
 "nbformat_minor": 2,
 "cells": [
  {
   "source": [
    "# Star Type Classification / NASA\n",
    "\n",
    "NASA에서 수집한 별의 유형 분류 DataSet이다."
   ],
   "cell_type": "markdown",
   "metadata": {}
  },
  {
   "source": [
    "## Star Type Classification\n",
    "\n",
    "\n",
    "For comparing all models of ML   \n",
    "It can be used for prediction\n",
    "\n",
    "Temperature -- K   \n",
    "L -- L/Lo  \n",
    "R -- R/Ro  \n",
    "AM -- Mv  \n",
    "Color -- General Color of Spectrum  \n",
    "Spectral_Class -- O,B,A,F,G,K,M / SMASS - https://en.wikipedia.org/wiki/Asteroid_spectral_types  \n",
    "Type -- Red Dwarf, Brown Dwarf, White Dwarf, Main Sequence , Super Giants, Hyper Giants  \n",
    "\n",
    "TARGET:  \n",
    "Type\n",
    "\n",
    "from 0 to 5  \n",
    "\n",
    "Red Dwarf - 0  \n",
    "Brown Dwarf - 1  \n",
    "White Dwarf - 2  \n",
    "Main Sequence - 3  \n",
    "Super Giants - 4  \n",
    "Hyper Giants - 5\n",
    "\n",
    "MATH:  \n",
    "\n",
    "Lo = 3.828 x 10^26 Watts  \n",
    "(Avg Luminosity of Sun)  \n",
    "Ro = 6.9551 x 10^8 m  \n",
    "(Avg Radius of Sun)  "
   ],
   "cell_type": "markdown",
   "metadata": {}
  },
  {
   "source": [
    "## 요약\n",
    " 요약\n",
    "Calumns: 온도(K), 광도(L), 반지름(R), AM, 색상, 스펙트럼(Spectral Class), Type (분류)  \n",
    "\n",
    "![Spectral_Class](https://scienceruls.weebly.com/uploads/5/1/7/4/51741831/846626525.GIF?448)"
   ],
   "cell_type": "markdown",
   "metadata": {}
  },
  {
   "cell_type": "code",
   "execution_count": 121,
   "metadata": {},
   "outputs": [],
   "source": [
    "import pandas as pd\n",
    "import numpy as np\n",
    "import matplotlib.pyplot as plt\n",
    "import os\n",
    "\n",
    "from sklearn import preprocessing"
   ]
  },
  {
   "cell_type": "code",
   "execution_count": 122,
   "metadata": {},
   "outputs": [],
   "source": [
    "DATA_PATH = os.path.join('data') # 데이터 저장 폴더\n",
    "\n",
    "def load_star_data(): # wine data의 csv파일을 return하는 함수\n",
    "    csv_path = os.path.join(DATA_PATH,'Stars.csv')\n",
    "    return pd.read_csv(csv_path)"
   ]
  },
  {
   "cell_type": "code",
   "execution_count": 123,
   "metadata": {},
   "outputs": [
    {
     "output_type": "execute_result",
     "data": {
      "text/plain": [
       "     Temperature              L          R    A_M  Color Spectral_Class  Type\n",
       "0           3068       0.002400     0.1700  16.12    Red              M     0\n",
       "1           3042       0.000500     0.1542  16.60    Red              M     0\n",
       "2           2600       0.000300     0.1020  18.70    Red              M     0\n",
       "3           2800       0.000200     0.1600  16.65    Red              M     0\n",
       "4           1939       0.000138     0.1030  20.06    Red              M     0\n",
       "..           ...            ...        ...    ...    ...            ...   ...\n",
       "235        38940  374830.000000  1356.0000  -9.93   Blue              O     5\n",
       "236        30839  834042.000000  1194.0000 -10.63   Blue              O     5\n",
       "237         8829  537493.000000  1423.0000 -10.73  White              A     5\n",
       "238         9235  404940.000000  1112.0000 -11.23  White              A     5\n",
       "239        37882  294903.000000  1783.0000  -7.80   Blue              O     5\n",
       "\n",
       "[240 rows x 7 columns]"
      ],
      "text/html": "<div>\n<style scoped>\n    .dataframe tbody tr th:only-of-type {\n        vertical-align: middle;\n    }\n\n    .dataframe tbody tr th {\n        vertical-align: top;\n    }\n\n    .dataframe thead th {\n        text-align: right;\n    }\n</style>\n<table border=\"1\" class=\"dataframe\">\n  <thead>\n    <tr style=\"text-align: right;\">\n      <th></th>\n      <th>Temperature</th>\n      <th>L</th>\n      <th>R</th>\n      <th>A_M</th>\n      <th>Color</th>\n      <th>Spectral_Class</th>\n      <th>Type</th>\n    </tr>\n  </thead>\n  <tbody>\n    <tr>\n      <th>0</th>\n      <td>3068</td>\n      <td>0.002400</td>\n      <td>0.1700</td>\n      <td>16.12</td>\n      <td>Red</td>\n      <td>M</td>\n      <td>0</td>\n    </tr>\n    <tr>\n      <th>1</th>\n      <td>3042</td>\n      <td>0.000500</td>\n      <td>0.1542</td>\n      <td>16.60</td>\n      <td>Red</td>\n      <td>M</td>\n      <td>0</td>\n    </tr>\n    <tr>\n      <th>2</th>\n      <td>2600</td>\n      <td>0.000300</td>\n      <td>0.1020</td>\n      <td>18.70</td>\n      <td>Red</td>\n      <td>M</td>\n      <td>0</td>\n    </tr>\n    <tr>\n      <th>3</th>\n      <td>2800</td>\n      <td>0.000200</td>\n      <td>0.1600</td>\n      <td>16.65</td>\n      <td>Red</td>\n      <td>M</td>\n      <td>0</td>\n    </tr>\n    <tr>\n      <th>4</th>\n      <td>1939</td>\n      <td>0.000138</td>\n      <td>0.1030</td>\n      <td>20.06</td>\n      <td>Red</td>\n      <td>M</td>\n      <td>0</td>\n    </tr>\n    <tr>\n      <th>...</th>\n      <td>...</td>\n      <td>...</td>\n      <td>...</td>\n      <td>...</td>\n      <td>...</td>\n      <td>...</td>\n      <td>...</td>\n    </tr>\n    <tr>\n      <th>235</th>\n      <td>38940</td>\n      <td>374830.000000</td>\n      <td>1356.0000</td>\n      <td>-9.93</td>\n      <td>Blue</td>\n      <td>O</td>\n      <td>5</td>\n    </tr>\n    <tr>\n      <th>236</th>\n      <td>30839</td>\n      <td>834042.000000</td>\n      <td>1194.0000</td>\n      <td>-10.63</td>\n      <td>Blue</td>\n      <td>O</td>\n      <td>5</td>\n    </tr>\n    <tr>\n      <th>237</th>\n      <td>8829</td>\n      <td>537493.000000</td>\n      <td>1423.0000</td>\n      <td>-10.73</td>\n      <td>White</td>\n      <td>A</td>\n      <td>5</td>\n    </tr>\n    <tr>\n      <th>238</th>\n      <td>9235</td>\n      <td>404940.000000</td>\n      <td>1112.0000</td>\n      <td>-11.23</td>\n      <td>White</td>\n      <td>A</td>\n      <td>5</td>\n    </tr>\n    <tr>\n      <th>239</th>\n      <td>37882</td>\n      <td>294903.000000</td>\n      <td>1783.0000</td>\n      <td>-7.80</td>\n      <td>Blue</td>\n      <td>O</td>\n      <td>5</td>\n    </tr>\n  </tbody>\n</table>\n<p>240 rows × 7 columns</p>\n</div>"
     },
     "metadata": {},
     "execution_count": 123
    }
   ],
   "source": [
    "star = load_star_data()\n",
    "star"
   ]
  },
  {
   "cell_type": "code",
   "execution_count": 124,
   "metadata": {},
   "outputs": [
    {
     "output_type": "stream",
     "name": "stdout",
     "text": [
      "<class 'pandas.core.frame.DataFrame'>\nRangeIndex: 240 entries, 0 to 239\nData columns (total 7 columns):\n #   Column          Non-Null Count  Dtype  \n---  ------          --------------  -----  \n 0   Temperature     240 non-null    int64  \n 1   L               240 non-null    float64\n 2   R               240 non-null    float64\n 3   A_M             240 non-null    float64\n 4   Color           240 non-null    object \n 5   Spectral_Class  240 non-null    object \n 6   Type            240 non-null    int64  \ndtypes: float64(3), int64(2), object(2)\nmemory usage: 13.2+ KB\n"
     ]
    },
    {
     "output_type": "execute_result",
     "data": {
      "text/plain": [
       "             count           mean            std         min          25%  \\\n",
       "Temperature  240.0   10497.462500    9552.425037  1939.00000  3344.250000   \n",
       "L            240.0  107188.361635  179432.244940     0.00008     0.000865   \n",
       "R            240.0     237.157781     517.155763     0.00840     0.102750   \n",
       "A_M          240.0       4.382396      10.532512   -11.92000    -6.232500   \n",
       "Type         240.0       2.500000       1.711394     0.00000     1.000000   \n",
       "\n",
       "                   50%          75%        max  \n",
       "Temperature  5776.0000   15055.5000   40000.00  \n",
       "L               0.0705  198050.0000  849420.00  \n",
       "R               0.7625      42.7500    1948.50  \n",
       "A_M             8.3130      13.6975      20.06  \n",
       "Type            2.5000       4.0000       5.00  "
      ],
      "text/html": "<div>\n<style scoped>\n    .dataframe tbody tr th:only-of-type {\n        vertical-align: middle;\n    }\n\n    .dataframe tbody tr th {\n        vertical-align: top;\n    }\n\n    .dataframe thead th {\n        text-align: right;\n    }\n</style>\n<table border=\"1\" class=\"dataframe\">\n  <thead>\n    <tr style=\"text-align: right;\">\n      <th></th>\n      <th>count</th>\n      <th>mean</th>\n      <th>std</th>\n      <th>min</th>\n      <th>25%</th>\n      <th>50%</th>\n      <th>75%</th>\n      <th>max</th>\n    </tr>\n  </thead>\n  <tbody>\n    <tr>\n      <th>Temperature</th>\n      <td>240.0</td>\n      <td>10497.462500</td>\n      <td>9552.425037</td>\n      <td>1939.00000</td>\n      <td>3344.250000</td>\n      <td>5776.0000</td>\n      <td>15055.5000</td>\n      <td>40000.00</td>\n    </tr>\n    <tr>\n      <th>L</th>\n      <td>240.0</td>\n      <td>107188.361635</td>\n      <td>179432.244940</td>\n      <td>0.00008</td>\n      <td>0.000865</td>\n      <td>0.0705</td>\n      <td>198050.0000</td>\n      <td>849420.00</td>\n    </tr>\n    <tr>\n      <th>R</th>\n      <td>240.0</td>\n      <td>237.157781</td>\n      <td>517.155763</td>\n      <td>0.00840</td>\n      <td>0.102750</td>\n      <td>0.7625</td>\n      <td>42.7500</td>\n      <td>1948.50</td>\n    </tr>\n    <tr>\n      <th>A_M</th>\n      <td>240.0</td>\n      <td>4.382396</td>\n      <td>10.532512</td>\n      <td>-11.92000</td>\n      <td>-6.232500</td>\n      <td>8.3130</td>\n      <td>13.6975</td>\n      <td>20.06</td>\n    </tr>\n    <tr>\n      <th>Type</th>\n      <td>240.0</td>\n      <td>2.500000</td>\n      <td>1.711394</td>\n      <td>0.00000</td>\n      <td>1.000000</td>\n      <td>2.5000</td>\n      <td>4.0000</td>\n      <td>5.00</td>\n    </tr>\n  </tbody>\n</table>\n</div>"
     },
     "metadata": {},
     "execution_count": 124
    }
   ],
   "source": [
    "# Stars DataSet은 String 형식의 Data가 존재해서 데이터 스케일링이 불가능하다. 즉 convert numeric to categorical을 해줘야 한다.\n",
    "# Data를 Numeric하게 바꾸는 작업이 필요한 column은 Color와 Spectral_Class이다.\n",
    "star.info()\n",
    "star.describe().T"
   ]
  },
  {
   "cell_type": "code",
   "execution_count": 125,
   "metadata": {},
   "outputs": [
    {
     "output_type": "execute_result",
     "data": {
      "text/plain": [
       "Red                   112\n",
       "Blue                   56\n",
       "Blue-white             26\n",
       "Blue White             10\n",
       "yellow-white            8\n",
       "White                   7\n",
       "Blue white              4\n",
       "Yellowish White         3\n",
       "white                   3\n",
       "Orange                  2\n",
       "Whitish                 2\n",
       "yellowish               2\n",
       "Orange-Red              1\n",
       "White-Yellow            1\n",
       "Blue-White              1\n",
       "Pale yellow orange      1\n",
       "Yellowish               1\n",
       "Name: Color, dtype: int64"
      ]
     },
     "metadata": {},
     "execution_count": 125
    }
   ],
   "source": [
    "# 데이터를 보면 같은 데이터인데 구분을 이상하게 한 모습을 볼수 있다. 이것을 7개 정도로 추려보자.\n",
    "star.Color.value_counts()"
   ]
  },
  {
   "cell_type": "code",
   "execution_count": 126,
   "metadata": {},
   "outputs": [
    {
     "output_type": "execute_result",
     "data": {
      "text/plain": [
       "             Temperature                                               \\\n",
       "                   count          mean          std     min       25%   \n",
       "Color                                                                   \n",
       "Blue                56.0  21918.339286  9453.979609  5752.0  14797.75   \n",
       "Blue-white          41.0  16659.951220  6560.050964  8570.0  11900.00   \n",
       "Orange               4.0   5094.500000  1530.042810  3749.0   4152.50   \n",
       "Red                112.0   3291.785714   490.780761  1939.0   2987.50   \n",
       "White               12.0   9579.583333  2368.265513  7220.0   7974.00   \n",
       "White-Yellow        12.0   7609.166667  2428.134444  5300.0   5902.00   \n",
       "Yellow               3.0   4527.666667   451.502307  4077.0   4301.50   \n",
       "\n",
       "                                              L                 ...      A_M  \\\n",
       "                  50%       75%      max  count           mean  ...      75%   \n",
       "Color                                                           ...            \n",
       "Blue          19921.5  27489.50  40000.0   56.0  249974.732446  ...  -4.3900   \n",
       "Blue-white    14100.0  22012.00  30000.0   41.0   68904.416521  ...  11.3800   \n",
       "Orange         4699.5   5641.50   7230.0    4.0  295000.157520  ...   7.0300   \n",
       "Red            3324.0   3550.75   6850.0  112.0   60526.787893  ...  16.8900   \n",
       "White          8879.5   9918.50  14732.0   12.0   78542.975191  ...  14.0725   \n",
       "White-Yellow   6928.5   7852.50  12990.0   12.0       1.960553  ...  12.3200   \n",
       "Yellow         4526.0   4753.00   4980.0    3.0       0.198333  ...   6.3670   \n",
       "\n",
       "                       Type                                                \n",
       "                 max  count      mean       std  min   25%  50%  75%  max  \n",
       "Color                                                                      \n",
       "Blue          12.900   56.0  3.571429  0.988243  2.0  3.00  4.0  4.0  5.0  \n",
       "Blue-white    14.870   41.0  2.951220  0.973427  2.0  2.00  3.0  3.0  5.0  \n",
       "Orange        14.080    4.0  3.750000  1.500000  2.0  2.75  4.0  5.0  5.0  \n",
       "Red           20.060  112.0  1.705357  1.975701  0.0  0.00  1.0  4.0  5.0  \n",
       "White         14.810   12.0  2.666667  1.154701  2.0  2.00  2.0  3.0  5.0  \n",
       "White-Yellow  14.470   12.0  2.666667  0.492366  2.0  2.00  3.0  3.0  3.0  \n",
       "Yellow         6.506    3.0  3.000000  0.000000  3.0  3.00  3.0  3.0  3.0  \n",
       "\n",
       "[7 rows x 40 columns]"
      ],
      "text/html": "<div>\n<style scoped>\n    .dataframe tbody tr th:only-of-type {\n        vertical-align: middle;\n    }\n\n    .dataframe tbody tr th {\n        vertical-align: top;\n    }\n\n    .dataframe thead tr th {\n        text-align: left;\n    }\n\n    .dataframe thead tr:last-of-type th {\n        text-align: right;\n    }\n</style>\n<table border=\"1\" class=\"dataframe\">\n  <thead>\n    <tr>\n      <th></th>\n      <th colspan=\"8\" halign=\"left\">Temperature</th>\n      <th colspan=\"2\" halign=\"left\">L</th>\n      <th>...</th>\n      <th colspan=\"2\" halign=\"left\">A_M</th>\n      <th colspan=\"8\" halign=\"left\">Type</th>\n    </tr>\n    <tr>\n      <th></th>\n      <th>count</th>\n      <th>mean</th>\n      <th>std</th>\n      <th>min</th>\n      <th>25%</th>\n      <th>50%</th>\n      <th>75%</th>\n      <th>max</th>\n      <th>count</th>\n      <th>mean</th>\n      <th>...</th>\n      <th>75%</th>\n      <th>max</th>\n      <th>count</th>\n      <th>mean</th>\n      <th>std</th>\n      <th>min</th>\n      <th>25%</th>\n      <th>50%</th>\n      <th>75%</th>\n      <th>max</th>\n    </tr>\n    <tr>\n      <th>Color</th>\n      <th></th>\n      <th></th>\n      <th></th>\n      <th></th>\n      <th></th>\n      <th></th>\n      <th></th>\n      <th></th>\n      <th></th>\n      <th></th>\n      <th></th>\n      <th></th>\n      <th></th>\n      <th></th>\n      <th></th>\n      <th></th>\n      <th></th>\n      <th></th>\n      <th></th>\n      <th></th>\n      <th></th>\n    </tr>\n  </thead>\n  <tbody>\n    <tr>\n      <th>Blue</th>\n      <td>56.0</td>\n      <td>21918.339286</td>\n      <td>9453.979609</td>\n      <td>5752.0</td>\n      <td>14797.75</td>\n      <td>19921.5</td>\n      <td>27489.50</td>\n      <td>40000.0</td>\n      <td>56.0</td>\n      <td>249974.732446</td>\n      <td>...</td>\n      <td>-4.3900</td>\n      <td>12.900</td>\n      <td>56.0</td>\n      <td>3.571429</td>\n      <td>0.988243</td>\n      <td>2.0</td>\n      <td>3.00</td>\n      <td>4.0</td>\n      <td>4.0</td>\n      <td>5.0</td>\n    </tr>\n    <tr>\n      <th>Blue-white</th>\n      <td>41.0</td>\n      <td>16659.951220</td>\n      <td>6560.050964</td>\n      <td>8570.0</td>\n      <td>11900.00</td>\n      <td>14100.0</td>\n      <td>22012.00</td>\n      <td>30000.0</td>\n      <td>41.0</td>\n      <td>68904.416521</td>\n      <td>...</td>\n      <td>11.3800</td>\n      <td>14.870</td>\n      <td>41.0</td>\n      <td>2.951220</td>\n      <td>0.973427</td>\n      <td>2.0</td>\n      <td>2.00</td>\n      <td>3.0</td>\n      <td>3.0</td>\n      <td>5.0</td>\n    </tr>\n    <tr>\n      <th>Orange</th>\n      <td>4.0</td>\n      <td>5094.500000</td>\n      <td>1530.042810</td>\n      <td>3749.0</td>\n      <td>4152.50</td>\n      <td>4699.5</td>\n      <td>5641.50</td>\n      <td>7230.0</td>\n      <td>4.0</td>\n      <td>295000.157520</td>\n      <td>...</td>\n      <td>7.0300</td>\n      <td>14.080</td>\n      <td>4.0</td>\n      <td>3.750000</td>\n      <td>1.500000</td>\n      <td>2.0</td>\n      <td>2.75</td>\n      <td>4.0</td>\n      <td>5.0</td>\n      <td>5.0</td>\n    </tr>\n    <tr>\n      <th>Red</th>\n      <td>112.0</td>\n      <td>3291.785714</td>\n      <td>490.780761</td>\n      <td>1939.0</td>\n      <td>2987.50</td>\n      <td>3324.0</td>\n      <td>3550.75</td>\n      <td>6850.0</td>\n      <td>112.0</td>\n      <td>60526.787893</td>\n      <td>...</td>\n      <td>16.8900</td>\n      <td>20.060</td>\n      <td>112.0</td>\n      <td>1.705357</td>\n      <td>1.975701</td>\n      <td>0.0</td>\n      <td>0.00</td>\n      <td>1.0</td>\n      <td>4.0</td>\n      <td>5.0</td>\n    </tr>\n    <tr>\n      <th>White</th>\n      <td>12.0</td>\n      <td>9579.583333</td>\n      <td>2368.265513</td>\n      <td>7220.0</td>\n      <td>7974.00</td>\n      <td>8879.5</td>\n      <td>9918.50</td>\n      <td>14732.0</td>\n      <td>12.0</td>\n      <td>78542.975191</td>\n      <td>...</td>\n      <td>14.0725</td>\n      <td>14.810</td>\n      <td>12.0</td>\n      <td>2.666667</td>\n      <td>1.154701</td>\n      <td>2.0</td>\n      <td>2.00</td>\n      <td>2.0</td>\n      <td>3.0</td>\n      <td>5.0</td>\n    </tr>\n    <tr>\n      <th>White-Yellow</th>\n      <td>12.0</td>\n      <td>7609.166667</td>\n      <td>2428.134444</td>\n      <td>5300.0</td>\n      <td>5902.00</td>\n      <td>6928.5</td>\n      <td>7852.50</td>\n      <td>12990.0</td>\n      <td>12.0</td>\n      <td>1.960553</td>\n      <td>...</td>\n      <td>12.3200</td>\n      <td>14.470</td>\n      <td>12.0</td>\n      <td>2.666667</td>\n      <td>0.492366</td>\n      <td>2.0</td>\n      <td>2.00</td>\n      <td>3.0</td>\n      <td>3.0</td>\n      <td>3.0</td>\n    </tr>\n    <tr>\n      <th>Yellow</th>\n      <td>3.0</td>\n      <td>4527.666667</td>\n      <td>451.502307</td>\n      <td>4077.0</td>\n      <td>4301.50</td>\n      <td>4526.0</td>\n      <td>4753.00</td>\n      <td>4980.0</td>\n      <td>3.0</td>\n      <td>0.198333</td>\n      <td>...</td>\n      <td>6.3670</td>\n      <td>6.506</td>\n      <td>3.0</td>\n      <td>3.000000</td>\n      <td>0.000000</td>\n      <td>3.0</td>\n      <td>3.00</td>\n      <td>3.0</td>\n      <td>3.0</td>\n      <td>3.0</td>\n    </tr>\n  </tbody>\n</table>\n<p>7 rows × 40 columns</p>\n</div>"
     },
     "metadata": {},
     "execution_count": 126
    }
   ],
   "source": [
    "color_dict = {\n",
    "    'Red' : 'Red', \n",
    "    'Blue' : 'Blue', \n",
    "    'Blue-white' : 'Blue-white', \n",
    "    'Blue White' : 'Blue-white', \n",
    "    'yellow-white' : 'White-Yellow', \n",
    "    'White' : 'White',\n",
    "    'Blue white' : 'Blue-white', \n",
    "    'white' : 'White', \n",
    "    'Yellowish White' : 'White-Yellow', \n",
    "    'yellowish' : 'Yellow', \n",
    "    'Orange' : 'Orange',\n",
    "    'Whitish' : 'White', \n",
    "    'Yellowish' : 'Yellow', \n",
    "    'Blue-White' : 'Blue-white', \n",
    "    'Pale yellow orange' : 'Orange',\n",
    "    'Orange-Red' : 'Orange', \n",
    "    'White-Yellow' : 'White-Yellow' \n",
    "}\n",
    "\n",
    "star.Color = star.Color.map(color_dict).astype('category')\n",
    "star.Color.value_counts()\n",
    "star.groupby('Color').describe()\n",
    "# 이제 Color의 종류를 7가지로 분류 했다."
   ]
  },
  {
   "cell_type": "code",
   "execution_count": 127,
   "metadata": {},
   "outputs": [
    {
     "output_type": "execute_result",
     "data": {
      "text/plain": [
       "M    111\n",
       "B     46\n",
       "O     40\n",
       "A     19\n",
       "F     17\n",
       "K      6\n",
       "G      1\n",
       "Name: Spectral_Class, dtype: int64"
      ]
     },
     "metadata": {},
     "execution_count": 127
    }
   ],
   "source": [
    "star.Spectral_Class.value_counts()"
   ]
  },
  {
   "cell_type": "code",
   "execution_count": 132,
   "metadata": {},
   "outputs": [
    {
     "output_type": "stream",
     "name": "stdout",
     "text": [
      "<class 'pandas.core.frame.DataFrame'>\nRangeIndex: 240 entries, 0 to 239\nData columns (total 7 columns):\n #   Column          Non-Null Count  Dtype  \n---  ------          --------------  -----  \n 0   Temperature     240 non-null    int64  \n 1   L               240 non-null    float64\n 2   R               240 non-null    float64\n 3   A_M             240 non-null    float64\n 4   Color           240 non-null    int64  \n 5   Spectral_Class  240 non-null    int64  \n 6   Type            240 non-null    int64  \ndtypes: float64(3), int64(4)\nmemory usage: 13.2 KB\n"
     ]
    }
   ],
   "source": [
    "# 사이킷 런의 preprocessing중 LabelEncoder이라는 것이 있다. 이를 적용해서 Object 형식의 값들을 Int 형식으로 형변환 해보겠다.\n",
    "\n",
    "le = preprocessing.LabelEncoder()\n",
    "\n",
    "selected_columns = ['Color','Spectral_Class']\n",
    "\n",
    "le.fit(star[selected_columns].values.flatten())\n",
    "star[selected_columns] = star[selected_columns].apply(le.fit_transform)\n",
    "star.info()"
   ]
  },
  {
   "cell_type": "code",
   "execution_count": 134,
   "metadata": {},
   "outputs": [
    {
     "output_type": "execute_result",
     "data": {
      "text/plain": [
       "     Temperature              L          R    A_M  Color  Spectral_Class  Type\n",
       "0           3068       0.002400     0.1700  16.12      3               5     0\n",
       "1           3042       0.000500     0.1542  16.60      3               5     0\n",
       "2           2600       0.000300     0.1020  18.70      3               5     0\n",
       "3           2800       0.000200     0.1600  16.65      3               5     0\n",
       "4           1939       0.000138     0.1030  20.06      3               5     0\n",
       "..           ...            ...        ...    ...    ...             ...   ...\n",
       "235        38940  374830.000000  1356.0000  -9.93      0               6     5\n",
       "236        30839  834042.000000  1194.0000 -10.63      0               6     5\n",
       "237         8829  537493.000000  1423.0000 -10.73      4               0     5\n",
       "238         9235  404940.000000  1112.0000 -11.23      4               0     5\n",
       "239        37882  294903.000000  1783.0000  -7.80      0               6     5\n",
       "\n",
       "[240 rows x 7 columns]"
      ],
      "text/html": "<div>\n<style scoped>\n    .dataframe tbody tr th:only-of-type {\n        vertical-align: middle;\n    }\n\n    .dataframe tbody tr th {\n        vertical-align: top;\n    }\n\n    .dataframe thead th {\n        text-align: right;\n    }\n</style>\n<table border=\"1\" class=\"dataframe\">\n  <thead>\n    <tr style=\"text-align: right;\">\n      <th></th>\n      <th>Temperature</th>\n      <th>L</th>\n      <th>R</th>\n      <th>A_M</th>\n      <th>Color</th>\n      <th>Spectral_Class</th>\n      <th>Type</th>\n    </tr>\n  </thead>\n  <tbody>\n    <tr>\n      <th>0</th>\n      <td>3068</td>\n      <td>0.002400</td>\n      <td>0.1700</td>\n      <td>16.12</td>\n      <td>3</td>\n      <td>5</td>\n      <td>0</td>\n    </tr>\n    <tr>\n      <th>1</th>\n      <td>3042</td>\n      <td>0.000500</td>\n      <td>0.1542</td>\n      <td>16.60</td>\n      <td>3</td>\n      <td>5</td>\n      <td>0</td>\n    </tr>\n    <tr>\n      <th>2</th>\n      <td>2600</td>\n      <td>0.000300</td>\n      <td>0.1020</td>\n      <td>18.70</td>\n      <td>3</td>\n      <td>5</td>\n      <td>0</td>\n    </tr>\n    <tr>\n      <th>3</th>\n      <td>2800</td>\n      <td>0.000200</td>\n      <td>0.1600</td>\n      <td>16.65</td>\n      <td>3</td>\n      <td>5</td>\n      <td>0</td>\n    </tr>\n    <tr>\n      <th>4</th>\n      <td>1939</td>\n      <td>0.000138</td>\n      <td>0.1030</td>\n      <td>20.06</td>\n      <td>3</td>\n      <td>5</td>\n      <td>0</td>\n    </tr>\n    <tr>\n      <th>...</th>\n      <td>...</td>\n      <td>...</td>\n      <td>...</td>\n      <td>...</td>\n      <td>...</td>\n      <td>...</td>\n      <td>...</td>\n    </tr>\n    <tr>\n      <th>235</th>\n      <td>38940</td>\n      <td>374830.000000</td>\n      <td>1356.0000</td>\n      <td>-9.93</td>\n      <td>0</td>\n      <td>6</td>\n      <td>5</td>\n    </tr>\n    <tr>\n      <th>236</th>\n      <td>30839</td>\n      <td>834042.000000</td>\n      <td>1194.0000</td>\n      <td>-10.63</td>\n      <td>0</td>\n      <td>6</td>\n      <td>5</td>\n    </tr>\n    <tr>\n      <th>237</th>\n      <td>8829</td>\n      <td>537493.000000</td>\n      <td>1423.0000</td>\n      <td>-10.73</td>\n      <td>4</td>\n      <td>0</td>\n      <td>5</td>\n    </tr>\n    <tr>\n      <th>238</th>\n      <td>9235</td>\n      <td>404940.000000</td>\n      <td>1112.0000</td>\n      <td>-11.23</td>\n      <td>4</td>\n      <td>0</td>\n      <td>5</td>\n    </tr>\n    <tr>\n      <th>239</th>\n      <td>37882</td>\n      <td>294903.000000</td>\n      <td>1783.0000</td>\n      <td>-7.80</td>\n      <td>0</td>\n      <td>6</td>\n      <td>5</td>\n    </tr>\n  </tbody>\n</table>\n<p>240 rows × 7 columns</p>\n</div>"
     },
     "metadata": {},
     "execution_count": 134
    }
   ],
   "source": [
    "star\n",
    "# 이렇게 다듬어진 DataSet을 Normalize 시켜보자."
   ]
  },
  {
   "cell_type": "code",
   "execution_count": null,
   "metadata": {},
   "outputs": [],
   "source": []
  }
 ]
}