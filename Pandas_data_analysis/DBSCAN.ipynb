{
 "metadata": {
  "language_info": {
   "codemirror_mode": {
    "name": "ipython",
    "version": 3
   },
   "file_extension": ".py",
   "mimetype": "text/x-python",
   "name": "python",
   "nbconvert_exporter": "python",
   "pygments_lexer": "ipython3",
   "version": 3
  },
  "orig_nbformat": 2
 },
 "nbformat": 4,
 "nbformat_minor": 2,
 "cells": [
  {
   "source": [
    "# DBSCAN (밀도 기반 클러스터링)\n",
    "\n",
    "## DBSCAN: Density-based spetial clustering of applications with noise\n",
    "\n",
    "기존의 K-Means, Hierarchical 클러스터링 -> 군집간의 거리를 이용하는 클러스터링   \n",
    "DBSCAN은 점이 얼마나 세밀하게 몰료있는지 (밀도가 높은지)롤 보고 군집을 인식한다.   "
   ],
   "cell_type": "markdown",
   "metadata": {}
  }
 ]
}