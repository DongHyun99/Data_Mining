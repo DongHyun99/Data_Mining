{
 "metadata": {
  "language_info": {
   "codemirror_mode": {
    "name": "ipython",
    "version": 3
   },
   "file_extension": ".py",
   "mimetype": "text/x-python",
   "name": "python",
   "nbconvert_exporter": "python",
   "pygments_lexer": "ipython3",
   "version": "3.8.3"
  },
  "orig_nbformat": 4,
  "kernelspec": {
   "name": "python3",
   "display_name": "Python 3.8.3 64-bit ('base': conda)"
  },
  "interpreter": {
   "hash": "579282893146967bc5d17141c601e8a8b8ad4a0a2a5a6fe1c87b1000077400d7"
  }
 },
 "nbformat": 4,
 "nbformat_minor": 2,
 "cells": [
  {
   "cell_type": "code",
   "execution_count": 351,
   "metadata": {},
   "outputs": [],
   "source": [
    "import pandas as pd\n",
    "import numpy as np\n",
    "from sklearn import preprocessing\n",
    "from sklearn.pipeline import Pipeline\n",
    "from sklearn.datasets import load_wine"
   ]
  },
  {
   "cell_type": "code",
   "execution_count": 352,
   "metadata": {},
   "outputs": [],
   "source": [
    "# dataSet 불러오기\n",
    "\n",
    "wine = load_wine()"
   ]
  },
  {
   "source": [
    "# 1. K-MEANS를 이용하여 Accuracy 측정"
   ],
   "cell_type": "markdown",
   "metadata": {}
  },
  {
   "cell_type": "code",
   "execution_count": 353,
   "metadata": {},
   "outputs": [
    {
     "output_type": "execute_result",
     "data": {
      "text/plain": [
       "0      1\n",
       "1      1\n",
       "2      1\n",
       "3      1\n",
       "4      0\n",
       "      ..\n",
       "173    0\n",
       "174    0\n",
       "175    0\n",
       "176    0\n",
       "177    2\n",
       "Length: 178, dtype: int32"
      ]
     },
     "metadata": {},
     "execution_count": 353
    }
   ],
   "source": [
    "# K_MEANS\n",
    "from sklearn.cluster import KMeans\n",
    "\n",
    "model = KMeans(n_clusters=3,init='k-means++')\n",
    "model.fit(wine.data,wine.target)\n",
    "predict = pd.Series(model.predict(wine.data)) # predict로 iris['class']와 accuracy 측정\n",
    "predict"
   ]
  },
  {
   "cell_type": "code",
   "execution_count": 354,
   "metadata": {},
   "outputs": [],
   "source": [
    "# K_MEANS crosstab -> 데이터를 재구조화 시키고 싶은데 하는 방법을 모르겠음\n",
    "# 따라서 crosstab으로 나타낸 뒤 가장 많이 겹치는 쪽으로 매핑하는 방향으로\n",
    "\n",
    "le = preprocessing.LabelEncoder() # 먼저 iris['class']를 형변환\n",
    "target = pd.DataFrame(le.fit_transform(wine.target))\n",
    "\n",
    "def mapping_func(target, predict): # 가장 정확도가 높은 mapping function\n",
    "    predict_dict={}\n",
    "    ct = pd.crosstab(target, predict)\n",
    "    for i in range(0,len(ct),1):\n",
    "        predict_dict[i] = ct.iloc[:,i].idxmax()\n",
    "    return predict_dict"
   ]
  },
  {
   "cell_type": "code",
   "execution_count": 355,
   "metadata": {},
   "outputs": [
    {
     "output_type": "execute_result",
     "data": {
      "text/plain": [
       "0      0\n",
       "1      0\n",
       "2      0\n",
       "3      0\n",
       "4      2\n",
       "      ..\n",
       "173    2\n",
       "174    2\n",
       "175    2\n",
       "176    2\n",
       "177    1\n",
       "Length: 178, dtype: category\n",
       "Categories (3, int64): [0, 1, 2]"
      ]
     },
     "metadata": {},
     "execution_count": 355
    }
   ],
   "source": [
    "# 가장 정확도가 높은 쪽으로 매핑\n",
    "\n",
    "predict_dict = mapping_func(target[0], predict)\n",
    "predict = predict.map(predict_dict).astype('category')\n",
    "predict"
   ]
  },
  {
   "cell_type": "code",
   "execution_count": 356,
   "metadata": {},
   "outputs": [
    {
     "output_type": "execute_result",
     "data": {
      "text/plain": [
       "0.702247191011236"
      ]
     },
     "metadata": {},
     "execution_count": 356
    }
   ],
   "source": [
    "# K_MEANS Accuracy Measurement\n",
    "from sklearn.metrics import accuracy_score\n",
    "\n",
    "accuracy_score(target, predict) # K_MEANS의 정확도는 약 70.22%"
   ]
  },
  {
   "source": [
    "# 2. DBSCAN을 이용하여 Accuracy 측정"
   ],
   "cell_type": "markdown",
   "metadata": {}
  },
  {
   "cell_type": "code",
   "execution_count": 387,
   "metadata": {},
   "outputs": [
    {
     "output_type": "execute_result",
     "data": {
      "text/plain": [
       "col_0  -1   0   1\n",
       "0                \n",
       "0       7  39  13\n",
       "1       1   1  69\n",
       "2       0   0  48"
      ],
      "text/html": "<div>\n<style scoped>\n    .dataframe tbody tr th:only-of-type {\n        vertical-align: middle;\n    }\n\n    .dataframe tbody tr th {\n        vertical-align: top;\n    }\n\n    .dataframe thead th {\n        text-align: right;\n    }\n</style>\n<table border=\"1\" class=\"dataframe\">\n  <thead>\n    <tr style=\"text-align: right;\">\n      <th>col_0</th>\n      <th>-1</th>\n      <th>0</th>\n      <th>1</th>\n    </tr>\n    <tr>\n      <th>0</th>\n      <th></th>\n      <th></th>\n      <th></th>\n    </tr>\n  </thead>\n  <tbody>\n    <tr>\n      <th>0</th>\n      <td>7</td>\n      <td>39</td>\n      <td>13</td>\n    </tr>\n    <tr>\n      <th>1</th>\n      <td>1</td>\n      <td>1</td>\n      <td>69</td>\n    </tr>\n    <tr>\n      <th>2</th>\n      <td>0</td>\n      <td>0</td>\n      <td>48</td>\n    </tr>\n  </tbody>\n</table>\n</div>"
     },
     "metadata": {},
     "execution_count": 387
    }
   ],
   "source": [
    "# DBSCAN\n",
    "from sklearn.model_selection import train_test_split\n",
    "from sklearn.cluster import DBSCAN\n",
    "\n",
    "# create model and prediction\n",
    "model = DBSCAN(eps=53) # 주변 밀집도 3으로 설정\n",
    "model = model.fit(wine.data,wine.target)\n",
    "predict = pd.Series(model.fit_predict(wine.data))\n",
    "\n",
    "# predict_dict = mapping_func(target[0], predict)\n",
    "# predict = predict.map(int,predict_dict) # 매핑함수를 적용하려 했지만, 하나의 값에 몰릴경우 어떻게 처리할지를 상정하지 않아서 값이 제대로 나오지 않음\n",
    "ct = pd.crosstab(target[0], predict)\n",
    "ct # CT으로 최대 정확도를 산정해 보면 70/178의 오답률을 보인다. (약 60.674% 정도)"
   ]
  },
  {
   "source": [
    "# 3. SVM을 이용하여 Accuracy 측정"
   ],
   "cell_type": "markdown",
   "metadata": {}
  },
  {
   "cell_type": "code",
   "execution_count": 388,
   "metadata": {},
   "outputs": [
    {
     "output_type": "execute_result",
     "data": {
      "text/plain": [
       "0.9929577464788732"
      ]
     },
     "metadata": {},
     "execution_count": 388
    }
   ],
   "source": [
    "from sklearn.svm import SVC\n",
    "from sklearn.model_selection import train_test_split\n",
    "\n",
    "trainX, testX, trainY, testY = \\\n",
    "    train_test_split(wine.data, wine.target, test_size=0.2)\n",
    "\n",
    "svm = SVC(kernel='linear')\n",
    "svm.fit(trainX, trainY)\n",
    "\n",
    "svm.score(trainX,trainY) # (약 99.29%)"
   ]
  }
 ]
}