{
 "metadata": {
  "language_info": {
   "codemirror_mode": {
    "name": "ipython",
    "version": 3
   },
   "file_extension": ".py",
   "mimetype": "text/x-python",
   "name": "python",
   "nbconvert_exporter": "python",
   "pygments_lexer": "ipython3",
   "version": "3.8.3"
  },
  "orig_nbformat": 4,
  "kernelspec": {
   "name": "python3",
   "display_name": "Python 3.8.3 64-bit ('base': conda)"
  },
  "interpreter": {
   "hash": "579282893146967bc5d17141c601e8a8b8ad4a0a2a5a6fe1c87b1000077400d7"
  }
 },
 "nbformat": 4,
 "nbformat_minor": 2,
 "cells": [
  {
   "cell_type": "code",
   "execution_count": 2,
   "metadata": {},
   "outputs": [],
   "source": [
    "import pandas as pd\n",
    "import numpy as np\n",
    "from sklearn import preprocessing\n",
    "from sklearn.pipeline import Pipeline\n",
    "from sklearn import datasets"
   ]
  },
  {
   "cell_type": "code",
   "execution_count": 92,
   "metadata": {},
   "outputs": [
    {
     "output_type": "execute_result",
     "data": {
      "text/plain": [
       "0\n",
       "0    212\n",
       "1    357\n",
       "dtype: int64"
      ]
     },
     "metadata": {},
     "execution_count": 92
    }
   ],
   "source": [
    "# dataSet 불러오기\n",
    "\n",
    "cancer = datasets.load_breast_cancer()\n",
    "\n",
    "target = pd.DataFrame(cancer.target)\n",
    "target.groupby(target[0]).size()"
   ]
  },
  {
   "source": [
    "# 1. K-MEANS를 이용하여 Accuracy 측정"
   ],
   "cell_type": "markdown",
   "metadata": {}
  },
  {
   "cell_type": "code",
   "execution_count": 11,
   "metadata": {},
   "outputs": [
    {
     "output_type": "execute_result",
     "data": {
      "text/plain": [
       "0      1\n",
       "1      1\n",
       "2      1\n",
       "3      0\n",
       "4      1\n",
       "      ..\n",
       "564    1\n",
       "565    1\n",
       "566    0\n",
       "567    1\n",
       "568    0\n",
       "Length: 569, dtype: int32"
      ]
     },
     "metadata": {},
     "execution_count": 11
    }
   ],
   "source": [
    "# K_MEANS\n",
    "from sklearn.cluster import KMeans\n",
    "\n",
    "model = KMeans(n_clusters=2,init='k-means++')\n",
    "model.fit(cancer.data,cancer.target)\n",
    "predict = pd.Series(model.predict(cancer.data)) # predict로 iris['class']와 accuracy 측정\n",
    "predict"
   ]
  },
  {
   "cell_type": "code",
   "execution_count": 12,
   "metadata": {},
   "outputs": [],
   "source": [
    "# K_MEANS crosstab -> 데이터를 재구조화 시키고 싶은데 하는 방법을 모르겠음\n",
    "# 따라서 crosstab으로 나타낸 뒤 가장 많이 겹치는 쪽으로 매핑하는 방향으로\n",
    "\n",
    "le = preprocessing.LabelEncoder() # 먼저 iris['class']를 형변환\n",
    "target = pd.DataFrame(le.fit_transform(cancer.target))\n",
    "\n",
    "def mapping_func(target, predict): # 가장 정확도가 높은 mapping function\n",
    "    predict_dict={}\n",
    "    ct = pd.crosstab(target, predict)\n",
    "    for i in range(0,len(ct),1):\n",
    "        predict_dict[i] = ct.iloc[:,i].idxmax()\n",
    "    return predict_dict"
   ]
  },
  {
   "cell_type": "code",
   "execution_count": 13,
   "metadata": {},
   "outputs": [
    {
     "output_type": "execute_result",
     "data": {
      "text/plain": [
       "0      0\n",
       "1      0\n",
       "2      0\n",
       "3      1\n",
       "4      0\n",
       "      ..\n",
       "564    0\n",
       "565    0\n",
       "566    1\n",
       "567    0\n",
       "568    1\n",
       "Length: 569, dtype: category\n",
       "Categories (2, int64): [0, 1]"
      ]
     },
     "metadata": {},
     "execution_count": 13
    }
   ],
   "source": [
    "# 가장 정확도가 높은 쪽으로 매핑\n",
    "\n",
    "predict_dict = mapping_func(target[0], predict)\n",
    "predict = predict.map(predict_dict).astype('category')\n",
    "predict"
   ]
  },
  {
   "cell_type": "code",
   "execution_count": 14,
   "metadata": {},
   "outputs": [
    {
     "output_type": "execute_result",
     "data": {
      "text/plain": [
       "0.8541300527240774"
      ]
     },
     "metadata": {},
     "execution_count": 14
    }
   ],
   "source": [
    "# K_MEANS Accuracy Measurement\n",
    "from sklearn.metrics import accuracy_score\n",
    "\n",
    "accuracy_score(target, predict) # K_MEANS의 정확도는 약 70.22%"
   ]
  },
  {
   "source": [
    "# 2. DBSCAN을 이용하여 Accuracy 측정"
   ],
   "cell_type": "markdown",
   "metadata": {}
  },
  {
   "cell_type": "code",
   "execution_count": 78,
   "metadata": {},
   "outputs": [
    {
     "output_type": "execute_result",
     "data": {
      "text/plain": [
       "col_0   -1    0\n",
       "0              \n",
       "0      188   24\n",
       "1       15  342"
      ],
      "text/html": "<div>\n<style scoped>\n    .dataframe tbody tr th:only-of-type {\n        vertical-align: middle;\n    }\n\n    .dataframe tbody tr th {\n        vertical-align: top;\n    }\n\n    .dataframe thead th {\n        text-align: right;\n    }\n</style>\n<table border=\"1\" class=\"dataframe\">\n  <thead>\n    <tr style=\"text-align: right;\">\n      <th>col_0</th>\n      <th>-1</th>\n      <th>0</th>\n    </tr>\n    <tr>\n      <th>0</th>\n      <th></th>\n      <th></th>\n    </tr>\n  </thead>\n  <tbody>\n    <tr>\n      <th>0</th>\n      <td>188</td>\n      <td>24</td>\n    </tr>\n    <tr>\n      <th>1</th>\n      <td>15</td>\n      <td>342</td>\n    </tr>\n  </tbody>\n</table>\n</div>"
     },
     "metadata": {},
     "execution_count": 78
    }
   ],
   "source": [
    "# DBSCAN\n",
    "from sklearn.model_selection import train_test_split\n",
    "from sklearn.cluster import DBSCAN\n",
    "\n",
    "# create model and prediction\n",
    "model = DBSCAN(eps=34) # 주변 밀집도 3으로 설정\n",
    "model = model.fit(cancer.data,cancer.target)\n",
    "predict = pd.Series(model.fit_predict(cancer.data))\n",
    "\n",
    "predict_dict = mapping_func(target[0], predict)\n",
    "predict = predict.map(int,predict_dict) # 매핑함수를 적용하려 했지만, 하나의 값에 몰릴경우 어떻게 처리할지를 상정하지 않아서 값이 제대로 나오지 않음\n",
    "\n",
    "pd.crosstab(target[0],predict)\n",
    "\n"
   ]
  },
  {
   "source": [
    "# 3. SVM을 이용하여 Accuracy 측정"
   ],
   "cell_type": "markdown",
   "metadata": {}
  },
  {
   "cell_type": "code",
   "execution_count": 97,
   "metadata": {},
   "outputs": [
    {
     "output_type": "execute_result",
     "data": {
      "text/plain": [
       "0.9692307692307692"
      ]
     },
     "metadata": {},
     "execution_count": 97
    }
   ],
   "source": [
    "from sklearn.svm import SVC\n",
    "from sklearn.model_selection import train_test_split\n",
    "\n",
    "trainX, testX, trainY, testY = \\\n",
    "    train_test_split(cancer.data, cancer.target, test_size=0.2)\n",
    "\n",
    "svm = SVC(kernel='linear')\n",
    "svm.fit(trainX, trainY)\n",
    "\n",
    "svm.score(trainX,trainY) # (약 99.29%)"
   ]
  }
 ]
}